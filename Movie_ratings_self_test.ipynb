{
 "cells": [
  {
   "cell_type": "markdown",
   "id": "478a668a-273f-452f-84c9-ca85ba26ad04",
   "metadata": {},
   "source": [
    "# Coursework 1: Movie ratings"
   ]
  },
  {
   "cell_type": "markdown",
   "id": "9bde526c-16a3-4305-b313-ce9f5c730f01",
   "metadata": {},
   "source": [
    "This is the first coursework of ECS7023P Programming for AI and Data Science, which counts 35% towards the final grade of the module. The coursework is graded out of 100 marks.\n",
    "\n",
    "**Deadline:** Monday 30th September, 2024 - 11.59pm\n",
    "\n",
    "**Marking criteria:** While the most important marking criterion will be for the code to achieve the expected objective and output, marks will also be given for partial or close solutions, whereas marks can be deducted for code that is overly complex, inefficient, difficult to understand and/or to maintain.\n",
    "\n",
    "**Use of packages:** For this exercise, in addition to the built-in python functions and elements that we have seen in the lectures (see lecture notes), you can only import the **csv** and **json** packages. No other packages are allowed. You cannot use other packages such as **pandas**, you won't get any marks for a question if you use it.\n",
    "\n",
    "**How to submit:** You will submit a completed Jupyter notebook file with your solutions, as well as a PDF version of the Jupyter notebook which includes the outputs of your code. You need to submit the python code that produces the required answers. Answers produced through means other than python code will not be deemed acceptable.\n",
    "\n",
    "**Note:** This is an individual coursework, the solutions you submit need to be your own and developed on your own."
   ]
  },
  {
   "cell_type": "markdown",
   "id": "2e303d15-5dc2-4a0c-91a7-0f663c897eec",
   "metadata": {},
   "source": [
    "## Dataset"
   ]
  },
  {
   "cell_type": "markdown",
   "id": "1bd66b8a-28e9-4da2-99a1-5f5afd7f00e5",
   "metadata": {},
   "source": [
    "For this exercise, you are given a dataset that contains information about a collection of movies, along with ratings assigned by 2,500 users to those movies.\n",
    "\n",
    "The dataset contains two files:\n",
    "* movies.json: a JSON file with information about movies, including their ID, title, language, release date, country(ies) of origin and genre(s).\n",
    "* ratings.csv: a CSV file that contains an entry for each movie rating, where a user ID rates a movie ID with a rating on a likert scale from 1 to 5 at a particular time.\n",
    "\n",
    "The **movieId** column in ratings.csv can be linked to the IDs within movie.json, so you know which specific movie a user is rating in each case.\n",
    "\n",
    "**Note:** ratings.csv contains entries only for movies that each user has rated, i.e. for many movies, a user may not have entered any ratings so we don't have that information."
   ]
  },
  {
   "cell_type": "markdown",
   "id": "cc9dc63a-bce3-4d71-a3e6-74f118dcc7a1",
   "metadata": {
    "tags": []
   },
   "source": [
    "## Exercises"
   ]
  },
  {
   "cell_type": "markdown",
   "id": "02175eb4-4623-40ab-ae09-96f1152a444d",
   "metadata": {},
   "source": [
    "### Question 1"
   ]
  },
  {
   "cell_type": "markdown",
   "id": "ace12b36-cf3d-46bb-90fc-4f0d559365f4",
   "metadata": {},
   "source": [
    "1. Who is the most active user with the largest number of ratings? Print the user ID and the number of ratings for this user. **(10 marks)**"
   ]
  },
  {
   "cell_type": "code",
   "execution_count": 6,
   "id": "9d6ea74f-3af8-41dd-9a96-526f9fc18ce3",
   "metadata": {},
   "outputs": [
    {
     "name": "stdout",
     "output_type": "stream",
     "text": [
      "The user with the largest number of ratings is: \"8659\", who made total number of \"3,023\" of ratings.\n"
     ]
    }
   ],
   "source": [
    "import csv\n",
    "\n",
    "ratingfreqs1 = {}\n",
    "with open('ratings.csv', 'r', encoding='utf-8') as ord:\n",
    "    csv_handler1 = csv.reader(ord)\n",
    "    for rows1 in csv_handler1:\n",
    "        column1 = rows1[0]\n",
    "        ratingfreqs1[column1] = 1 + ratingfreqs1.get(column1, 0)\n",
    "frequentID1 = ''\n",
    "frequentNum1 = 0\n",
    "for id1, numbers1 in ratingfreqs1.items():\n",
    "    if numbers1 > frequentNum1:\n",
    "        frequentID1 = id1\n",
    "        frequentNum1 = numbers1\n",
    "\n",
    "print(f'The user with the largest number of ratings is: \"{frequentID1}\", who made total number of \"{frequentNum1:,}\" of ratings.')"
   ]
  },
  {
   "cell_type": "markdown",
   "id": "93befa19-5d8b-4898-ae97-00cde96dbc41",
   "metadata": {},
   "source": [
    "### Question 2"
   ]
  },
  {
   "cell_type": "markdown",
   "id": "bbab3b67-deb8-456c-bfec-8cd97d6bfe8b",
   "metadata": {},
   "source": [
    "2. What is the user who, having rated at least 25 movies, has the overall lowest rating average? Print the ID of this user and their rating average. **(10 marks)**"
   ]
  },
  {
   "cell_type": "code",
   "execution_count": 15,
   "id": "5669d236-c9a2-4e25-86e7-5c445cf55c4c",
   "metadata": {},
   "outputs": [
    {
     "name": "stdout",
     "output_type": "stream",
     "text": [
      "The user who rated at least 25 times, with the lowest average rating is: \"5228\"\n",
      "with the average rating of \"0.83\"\n"
     ]
    }
   ],
   "source": [
    "import csv\n",
    "\n",
    "user_ratings2 = {}\n",
    "with open('ratings.csv', 'r', encoding = 'utf-8') as file2:\n",
    "    rating_file2 = csv.reader(file2)\n",
    "    next(rating_file2)\n",
    "\n",
    "    for rows2 in rating_file2:\n",
    "        user_ID2 = rows2[0]\n",
    "        ratings2 = float(rows2[2])\n",
    "\n",
    "        if user_ID2 in user_ratings2:\n",
    "            user_ratings2[user_ID2]['count'] += 1\n",
    "            user_ratings2[user_ID2]['sum'] += ratings2\n",
    "        else:\n",
    "            user_ratings2[user_ID2] = {'count' : 1, 'sum' : ratings2}\n",
    "\n",
    "lowest_average_rating2 = 0\n",
    "lowest_average_user2 = []\n",
    "\n",
    "for user2, data2 in user_ratings2.items():\n",
    "    if data2['count'] > 24: #only consider users with more than 25 ratings.\n",
    "        avg_rating2 = data2['sum'] / data2['count']\n",
    "\n",
    "        #check if it's the lowest average rating\n",
    "        if lowest_average_rating2 == 0 or avg_rating2 < lowest_average_rating2:\n",
    "            lowest_average_rating2 = avg_rating2\n",
    "            lowest_average_user2 = user2\n",
    "\n",
    "print(f'The user who rated at least 25 times, with the lowest average rating is: \"{lowest_average_user2}\"')\n",
    "print(f'with the average rating of \"{lowest_average_rating2:.2f}\"')    "
   ]
  },
  {
   "cell_type": "markdown",
   "id": "c98f9c61-c3d9-4be0-93d2-e063705ce29c",
   "metadata": {},
   "source": [
    "### Question 3"
   ]
  },
  {
   "cell_type": "markdown",
   "id": "ac029ef9-7b56-43e0-96c9-f2ddfd4f81f6",
   "metadata": {},
   "source": [
    "3. Given a year and a country as input, produce the statistics of genres for movies released in that year and country. To show the output of your code, print the results for 1995 as the input year and GB as the input country. **(10 marks)**"
   ]
  },
  {
   "cell_type": "code",
   "execution_count": 20,
   "id": "f3846268-bdbd-46a2-aad8-fd858f17ebcb",
   "metadata": {},
   "outputs": [
    {
     "name": "stdout",
     "output_type": "stream",
     "text": [
      "Genre statistics for movies released in 1995 in country \"['GB']\" is\n",
      "Adventure : 4\n",
      "Action : 5\n",
      "Thriller : 7\n",
      "Drama : 37\n",
      "Romance : 20\n",
      "History : 4\n",
      "War : 5\n",
      "Comedy : 19\n",
      "Documentary : 4\n",
      "Foreign : 4\n",
      "Crime : 5\n",
      "Fantasy : 2\n",
      "Family : 2\n",
      "Animation : 2\n",
      "TV Movie : 4\n",
      "Mystery : 3\n",
      "Horror : 4\n",
      "Science Fiction : 2\n",
      "Western : 1\n"
     ]
    }
   ],
   "source": [
    "import json\n",
    "\n",
    "movie_ratings3 = []\n",
    "with open('movies.json', 'r', encoding = 'utf-8') as file3:\n",
    "    for lines3 in file3:\n",
    "        if lines3.strip():\n",
    "            movie_ratings3.append(json.loads(lines3))\n",
    "\n",
    "def genre_statistics(yeaR, country3):\n",
    "    genres_number3 = {}\n",
    "    \n",
    "    for movie3 in movie_ratings3:\n",
    "        year_released3 = movie3['releasedate'].split('-')[0]\n",
    "        country_name3 = movie3.get('countries', [])\n",
    "        \n",
    "        if year_released3 == str(yeaR) and country3 in country_name3:\n",
    "            for genre3 in movie3.get('genres', []):\n",
    "                if genre3 in genres_number3:\n",
    "                    genres_number3[genre3] += 1\n",
    "                else:\n",
    "                    genres_number3[genre3] = 1\n",
    "\n",
    "    print(f'Genre statistics for movies released in {yeaR} in country \"{country_name3}\" is')\n",
    "    for genre3_a, count3 in genres_number3.items():\n",
    "        print(f'{genre3_a} : {count3}')\n",
    "\n",
    "genre_statistics(1995, 'GB')"
   ]
  },
  {
   "cell_type": "markdown",
   "id": "f1e3f9be-ec5a-4945-8bab-8706f62d6f50",
   "metadata": {},
   "source": [
    "### Question 4"
   ]
  },
  {
   "cell_type": "markdown",
   "id": "b38c2237-0844-44c5-866b-f62f9ecd5b8a",
   "metadata": {},
   "source": [
    "4. What is the title of the movie with the largest number of 3.5 ratings? How many 3.5 ratings does it have? **(15 marks)**"
   ]
  },
  {
   "cell_type": "code",
   "execution_count": 25,
   "id": "b8fdb758-3a7f-4e36-b45f-43c837c2b1b1",
   "metadata": {},
   "outputs": [
    {
     "name": "stdout",
     "output_type": "stream",
     "text": [
      "The movie with the largest number of 3.5 ratings is: \"Monsoon Wedding\", with the total number of \"654\".\n"
     ]
    }
   ],
   "source": [
    "import csv\n",
    "import json\n",
    "\n",
    "# CSV file load\n",
    "tpf_ratings4 = {}                        # tpfa = three point five\n",
    "\n",
    "with open('ratings.csv', 'r', encoding = 'utf-8')as ratingsfilecsv4:\n",
    "    next(ratingsfilecsv4)\n",
    "    csv_ratings4 = csv.reader(ratingsfilecsv4)\n",
    "\n",
    "\n",
    "    for rows4 in csv_ratings4:\n",
    "        columnID4 = rows4[1].strip()\n",
    "        columnR4 = float(rows4[2])\n",
    "\n",
    "        if columnR4 == 3.5:\n",
    "             tpf_ratings4[columnID4] = 1 + tpf_ratings4.get(columnID4,0)\n",
    "\n",
    "\n",
    "frequentID4 = max(tpf_ratings4, key=tpf_ratings4.get)\n",
    "frequentNum4 = tpf_ratings4[frequentID4]\n",
    "\n",
    "# Json file load\n",
    "tpf_movies4 = []\n",
    "with open('movies.json', 'r', encoding = 'utf-8') as moviesfilejson4:\n",
    "    for lines4 in moviesfilejson4:\n",
    "         if lines4.strip():\n",
    "            tpf_movies4.append(json.loads(lines4))\n",
    "\n",
    "\n",
    "def find_movietitle(movieID_csv4):\n",
    "    for movie4_a in tpf_movies4:\n",
    "        movieID_json4 = str(movie4_a.get('id')).strip()\n",
    "        #debugging\n",
    "        # print(f'comparing json {movieID_json} with CSV movieID: {movieID_csv}')        \n",
    "        \n",
    "        if movieID_json4 == movieID_csv4:\n",
    "             return movie4_a.get('title', [])\n",
    "\n",
    "\n",
    "movie_title4 = find_movietitle(frequentID4)\n",
    "print(f'The movie with the largest number of 3.5 ratings is: \"{movie_title4}\", with the total number of \"{frequentNum4}\".')"
   ]
  },
  {
   "cell_type": "markdown",
   "id": "6647ccaa-c700-4ffd-a57e-fe386ebe3fa4",
   "metadata": {},
   "source": [
    "### Question 5"
   ]
  },
  {
   "cell_type": "markdown",
   "id": "e5df4f2f-5b2a-44de-8374-c0cdcc1e91f2",
   "metadata": {},
   "source": [
    "5. Write a python function which, given one or more countries as input parameter, produces a list of the top 5 movie titles with the highest average rating that match the country/ies. As an example to show your code, print the output for GB and US as the input countries. Note: the list of countries has to be part of the movie's countries, but not necessarily an exact match, e.g. a movie with GB, US, DE would be a match for GB, US as input parameter. **(15 marks)**"
   ]
  },
  {
   "cell_type": "code",
   "execution_count": 32,
   "id": "9cd5ba62-f0d5-4686-b538-01906ab6ca09",
   "metadata": {},
   "outputs": [
    {
     "name": "stdout",
     "output_type": "stream",
     "text": [
      "For countries of ['GB', 'US'], the TOP-5 movies are\n",
      "No.1 : The Winter Guest : 4.50\n",
      "No.2 : Merlin : 4.29\n",
      "No.3 : Treasure Island : 4.28\n",
      "No.4 : Terminator 3: Rise of the Machines : 4.18\n",
      "No.5 : The Scapegoat : 4.17\n"
     ]
    }
   ],
   "source": [
    "import csv\n",
    "import json\n",
    "\n",
    "\n",
    "def top_rated(countries_list5):\n",
    "    movie_data5 = []\n",
    "    \n",
    "    with open('movies.json', 'r', encoding='utf-8') as jsonfile5:\n",
    "        for lines5 in jsonfile5:\n",
    "            movie5 = json.loads(lines5.strip())  # debugging success\n",
    "            movie_countries5 = movie5.get('countries', [])\n",
    "            movie_id5 = movie5['id']\n",
    "            movie_title5 = movie5['title']\n",
    "            # store above 3 variables in movie_data\n",
    "            movie_data5.append({\n",
    "                'id' : movie_id5,\n",
    "                'title' : movie_title5,\n",
    "                'countries' : movie_countries5\n",
    "                })                                     # debugging success\n",
    "            \n",
    "    movie_ratings_data5 = {}\n",
    "\n",
    "    with open('ratings.csv', 'r', encoding='utf-8') as csvfile5:\n",
    "        csv_handler5 = csv.reader(csvfile5)\n",
    "        next(csv_handler5)\n",
    "\n",
    "        for rows5 in csv_handler5:\n",
    "            movieidcolumn5 = rows5[1]\n",
    "            ratingcolumn5 = float(rows5[2])              # debugging success\n",
    "\n",
    "            if movieidcolumn5 in movie_ratings_data5:\n",
    "                 movie_ratings_data5[movieidcolumn5]['count'] += 1\n",
    "                 movie_ratings_data5[movieidcolumn5]['sum'] += ratingcolumn5\n",
    "\n",
    "            else:\n",
    "                 movie_ratings_data5[movieidcolumn5] = {'count': 1, 'sum': ratingcolumn5}   \n",
    "            # debugging success       \n",
    "\n",
    "    for movie_id5_a in movie_ratings_data5:\n",
    "        total_sum5 = movie_ratings_data5[movie_id5_a]['sum']\n",
    "        total_count5 = movie_ratings_data5[movie_id5_a]['count']\n",
    "        movie_ratings_data5[movie_id5_a]['average_rating'] = total_sum5 / total_count5   #debugging success\n",
    "\n",
    "    movies_match5 = []\n",
    "\n",
    "    for matching_movie5_a in movie_data5:\n",
    "        movie_id5_a = matching_movie5_a['id']\n",
    "        movie_countries5_a = matching_movie5_a['countries']\n",
    "\n",
    "        if all(country5 in movie_countries5_a for country5 in countries_list5):   \n",
    "            if movie_id5_a in movie_ratings_data5:\n",
    "                matching_movie5_a['average_rating'] = movie_ratings_data5[movie_id5_a]['average_rating']\n",
    "                movies_match5.append(matching_movie5_a)\n",
    "\n",
    "    sorted_movies5 = sorted(movies_match5, key= lambda x:x['average_rating'], reverse = True)\n",
    "\n",
    "    top_5_movies5 = sorted_movies5[:5]\n",
    "\n",
    "    print(f'For countries of {countries_list5}, the TOP-5 movies are')\n",
    "    for i_5, movie_rank5 in enumerate(top_5_movies5, 1):\n",
    "        print(f\"No.{i_5} : {movie_rank5['title']} : {movie_rank5['average_rating']:.2f}\")\n",
    "\n",
    "top_rated(['GB','US'])\n"
   ]
  },
  {
   "cell_type": "markdown",
   "id": "c1994bf6-e5d1-4498-8f3f-f79817647829",
   "metadata": {},
   "source": [
    "### Question 6"
   ]
  },
  {
   "cell_type": "markdown",
   "id": "031d72ec-bd0c-4da2-ae8e-5f6b9220c1e1",
   "metadata": {},
   "source": [
    "6. Produce a list of all movie genres available in the dataset, with their overall average rating for each genre. Print also the name of the genre with the highest average rating. Note: ratings pertaining to movies with more than one genre contribute to the average of all the relevant genres. **(15 marks)**"
   ]
  },
  {
   "cell_type": "code",
   "execution_count": 37,
   "id": "be6cedc6-2a75-4b82-aea3-16a42374e350",
   "metadata": {},
   "outputs": [
    {
     "name": "stdout",
     "output_type": "stream",
     "text": [
      "Average ratings by genre:\n",
      "Animation: 3.185\n",
      "Comedy: 3.203\n",
      "Family: 3.216\n",
      "Adventure: 3.211\n",
      "Fantasy: 3.148\n",
      "Action: 3.203\n",
      "Crime: 3.226\n",
      "Drama: 3.212\n",
      "Thriller: 3.220\n",
      "Romance: 3.187\n",
      "Science Fiction: 3.192\n",
      "Mystery: 3.192\n",
      "Music: 3.225\n",
      "Horror: 3.194\n",
      "History: 3.165\n",
      "War: 3.157\n",
      "Documentary: 3.188\n",
      "Western: 3.145\n",
      "Foreign: 3.229\n",
      "TV Movie: 3.066\n",
      "\n",
      "The genre with the highest average rating is \"Foreign\" with an average rating of \"3.229\"\n"
     ]
    }
   ],
   "source": [
    "import json\n",
    "import csv\n",
    "\n",
    "movies_data_list6 = []\n",
    "with open('movies.json', 'r', encoding='utf-8')as jsonfile6:\n",
    "    for lines6 in jsonfile6:\n",
    "        movie_info6 = json.loads(lines6.strip())  #debugging success\n",
    "        movie_genres_list6 = movie_info6.get('genres', [])\n",
    "        movie_unique_id6 = movie_info6['id']\n",
    "        movie_title6 = movie_info6['title']\n",
    "        movies_data_list6.append({\n",
    "            'id' : movie_unique_id6,\n",
    "            'title' : movie_title6,\n",
    "            'genres' : movie_genres_list6\n",
    "        })\n",
    "\n",
    "ratings_data_dictionary6 = {}\n",
    "with open('ratings.csv', 'r', encoding='utf-8')as csv_file6:\n",
    "    csv_reader6 = csv.reader(csv_file6)\n",
    "    next(csv_reader6)\n",
    "\n",
    "    for rows6 in csv_reader6:\n",
    "        movie_id_in_ratings6 = rows6[1]\n",
    "        movie_ratings_number6 = float(rows6[2])\n",
    "\n",
    "        if movie_id_in_ratings6 in ratings_data_dictionary6:\n",
    "            ratings_data_dictionary6[movie_id_in_ratings6]['count'] += 1\n",
    "            ratings_data_dictionary6[movie_id_in_ratings6]['sum'] += movie_ratings_number6\n",
    "        else:\n",
    "            ratings_data_dictionary6[movie_id_in_ratings6] = {'count': 1, 'sum': movie_ratings_number6}\n",
    "\n",
    "    for movie_id6_a in ratings_data_dictionary6:\n",
    "        total_sum_ratings6 = ratings_data_dictionary6[movie_id6_a]['sum']\n",
    "        total_count_ratings6 = ratings_data_dictionary6[movie_id6_a]['count']\n",
    "        ratings_data_dictionary6[movie_id6_a]['average_rating'] = total_sum_ratings6 / total_count_ratings6   #debugging success\n",
    "\n",
    "\n",
    "# link movie genres - ratings, calculate average ratings using movie id\n",
    "genre_ratings_dictionary6 = {}\n",
    "    \n",
    "for movie_record6_a in movies_data_list6:\n",
    "    movie_id_json6 = movie_record6_a['id']\n",
    "    movie_genres_json6 = movie_record6_a['genres']\n",
    "\n",
    "\n",
    "    if movie_id_json6 in ratings_data_dictionary6:\n",
    "        average_movie_rating6 = ratings_data_dictionary6[movie_id_json6]['average_rating']\n",
    "            \n",
    "            # adding the movie's average rating to all its genres\n",
    "        for genre_name6_a in movie_genres_json6:\n",
    "            if genre_name6_a not in genre_ratings_dictionary6:\n",
    "                genre_ratings_dictionary6[genre_name6_a] = {'sum': 0, 'count': 0}\n",
    "            \n",
    "            genre_ratings_dictionary6[genre_name6_a]['sum'] += average_movie_rating6\n",
    "            genre_ratings_dictionary6[genre_name6_a]['count'] += 1\n",
    "    \n",
    "# overall average rating for each genre\n",
    "for genre_name6_b in genre_ratings_dictionary6:\n",
    "        total_genre_sum6 = genre_ratings_dictionary6[genre_name6_b]['sum']\n",
    "        total_genre_count6 = genre_ratings_dictionary6[genre_name6_b]['count']\n",
    "        genre_ratings_dictionary6[genre_name6_b]['average_rating'] = total_genre_sum6 / total_genre_count6\n",
    "\n",
    "# print output\n",
    "print(\"Average ratings by genre:\")\n",
    "for genre_name6_c, rating_data6_a in genre_ratings_dictionary6.items():\n",
    "        print(f'{genre_name6_c}: {rating_data6_a['average_rating']:.3f}') # 3 decimal points are used to clearly show the highest rated genre\n",
    "\n",
    "highest_rated_genre6 = max(genre_ratings_dictionary6, key=lambda x: genre_ratings_dictionary6[x]['average_rating'])\n",
    "print(f'\\nThe genre with the highest average rating is \"{highest_rated_genre6}\" with an average rating of \"{genre_ratings_dictionary6[highest_rated_genre6]['average_rating']:.3f}\"')    "
   ]
  },
  {
   "cell_type": "markdown",
   "id": "38878e37-10ad-4bf5-9772-4e209b37a770",
   "metadata": {},
   "source": [
    "### Question 7"
   ]
  },
  {
   "cell_type": "markdown",
   "id": "0a6d00da-56c6-4443-b7e8-31b5bb123375",
   "metadata": {},
   "source": [
    "7. We want to implement a small recommender system which, given a movie as input, recommends the most similar movie. The idea behind it is to recommend the movie with the most similar rating pattern to the movie provided as input (e.g. if our input movie has been liked by some users and disliked by others, we will try to recommend one where similar users liked and disliked it). To do this, we will measure the pairwise cosine similarities between the input movie and each of the other movies in the dataset, to find the one that maximises the similarity.\n",
    "\n",
    "The cosine similarity between two vectors (in python, lists) A and B is measured as:\n",
    "\n",
    "$\\mathbf{A} \\cdot \\mathbf{B} / \\|\\mathbf{A}\\| \\|\\mathbf{B}\\| = \\frac{ \\sum\\limits_{i=1}^{n}{A_i  B_i} }{ \\sqrt{\\sum\\limits_{i=1}^{n}{A_i^2}} \\cdot \\sqrt{\\sum\\limits_{i=1}^{n}{B_i^2}} }$ \n",
    "\n",
    "That's the (element-wise) multiplication of both vectors, divided by the multiplication of their norms. As an example, if we have two vectors:\n",
    "* A = [0, 1, 2]\n",
    "* B = [1, 2, 3]\n",
    "\n",
    "The cosine similarity between A and B is:\n",
    "\n",
    "$sim(A, B) = (0 * 1 + 1 * 2 + 2 * 3) / (\\sqrt{0^2 + 1^2 + 2^2} * \\sqrt{1^2 + 2^2 + 3^2}) = 0.956182887$\n",
    "\n",
    "See the toy example below where we have 3 movies and 5 users. Cells with a 0 indicate that the user hasn't rated that movie, whereas values 1-5 indicate that the user has rated the movie with that value:\n",
    "\n",
    "|         | user 1 | user 2 | user 3 | user 4 | user 5 |\n",
    "|---------|--------|--------|--------|--------|--------|\n",
    "| movie 1 |      5 |      0 |      2 |      1 |      5 |\n",
    "| movie 2 |      1 |      3 |      0 |      1 |      4 |\n",
    "| movie 3 |      4 |      0 |      2 |      1 |      0 |\n",
    "\n",
    "Let's say in this case our input movie is movie 1, so we want to find the movie that's most similar to movie 1. We would compute the pairwise cosine similarities between movie 1 (our input movie) and every other movie in the dataset:\n",
    "* Cosine similarity between movie 1 and movie 2 is: 0.674699\n",
    "* Cosine similarity between movie 1 and movie 3 is: 0.735612\n",
    "\n",
    "Hence, we would recommend movie 3 as the one with the highest cosine similarity with movie 1.\n",
    "\n",
    "To complete this question, write a python function which, given a movie as input, outputs the most similar movie as the recommended item based on highest cosine similarity with the input movie.\n",
    "\n",
    "**(30 marks)**\n",
    "\n",
    "NB that you can only use the *json* and *csv* packages. To calculate the square root of a value, you can use (1/2) as the exponent of a base number, e.g. 3**(1/2) calculates the square root of 3."
   ]
  },
  {
   "cell_type": "code",
   "execution_count": 40,
   "id": "157425e6-22ae-49c7-a369-5a19d46ed55b",
   "metadata": {},
   "outputs": [
    {
     "name": "stdout",
     "output_type": "stream",
     "text": [
      "\n",
      "In accordance to cosine similarities with \"141\", the most similar movie is : \"1393\"\n"
     ]
    }
   ],
   "source": [
    "# There are two solutions for this.\n",
    "# 1st = the function input is a \"movie ID\", which is more clear to identify the right ratings\n",
    "# 2nd = the function input is a \"movie title\" which is a problem as\n",
    "# there are movies with the same name but different release date hence different movie ID,\n",
    "# which gives less clarity in cosine similarity. So, 2nd option require another parameter; released year\n",
    "\n",
    "# 1st option = function input as a movie ID\n",
    "import csv\n",
    "import json\n",
    "\n",
    "#csv\n",
    "def recommend(movie_parameter7):  # Use movieID as parameter\n",
    "    ratings_data7 = {}\n",
    "    user_ids7 = set()\n",
    "    with open('ratings.csv', 'r', encoding='utf-8') as main_file7:\n",
    "        next(main_file7)  \n",
    "        csv_handler7 = csv.reader(main_file7)\n",
    "        \n",
    "        for ratings_rows7 in csv_handler7:\n",
    "            userID7, movieID7, ratings7 = ratings_rows7[0].strip(), ratings_rows7[1].strip(), float(ratings_rows7[2])\n",
    "            user_ids7.add(userID7)\n",
    "            number_of_users7 = len(user_ids7)\n",
    "\n",
    "            if movieID7 not in ratings_data7:\n",
    "                ratings_data7[movieID7] = []\n",
    "\n",
    "            ratings_data7[movieID7].append(ratings7)\n",
    "\n",
    "    # Ensure every movie has ratings by appending 0.0\n",
    "    for key7_a, value7_a in ratings_data7.items():\n",
    "        while len(value7_a) < number_of_users7:\n",
    "            value7_a.append(0.0)\n",
    "    \n",
    "    if movie_parameter7 not in ratings_data7:\n",
    "        print(\"No search results. Enter the correct movieID.\")\n",
    "        return  # Exit the function if the movie ID is not found\n",
    "\n",
    "    # Calculate the norm (magnitude) for each movie\n",
    "    denominator_each7 = {}\n",
    "\n",
    "    for movies7_b, ratings7_b in ratings_data7.items():\n",
    "        sum_of_squares7 = sum([rating7_c ** 2 for rating7_c in ratings7_b])\n",
    "        norm7 = sum_of_squares7 ** 0.5\n",
    "        denominator_each7[movies7_b] = norm7\n",
    "    \n",
    "    # Retrieve the ratings for the input movie (movie_parameter)\n",
    "    main_movie_ratings7 = ratings_data7[movie_parameter7]\n",
    "    \n",
    "    cosine_similarities7 = {}\n",
    "\n",
    "    # Calculate cosine similarity between input movie and all other movies\n",
    "    for movie_key7_c, other_movie_ratings7_c in ratings_data7.items():\n",
    "        if movie_key7_c != movie_parameter7:  # Skip comparing movie with itself\n",
    "            # Calculate numerator\n",
    "            mult_ratings7 = [a * b for a, b in zip(main_movie_ratings7, other_movie_ratings7_c)]\n",
    "            numerator7 = sum(mult_ratings7)\n",
    "\n",
    "            # Calculate cosine similarity\n",
    "            cosine_similarity7 = numerator7 / (denominator_each7[movie_parameter7] * denominator_each7[movie_key7_c])\n",
    "            cosine_similarities7[movie_key7_c] = cosine_similarity7\n",
    "\n",
    "    # Find the movie with the highest cosine similarity\n",
    "    highest_rated_sim7 = max(cosine_similarities7, key=cosine_similarities7.get)\n",
    "\n",
    "    # Output the movie ID with the highest similarity\n",
    "    print(f'\\nIn accordance to cosine similarities with \"{movie_parameter7}\", the most similar movie is : \"{highest_rated_sim7}\"')\n",
    "    \n",
    "recommend('141')"
   ]
  },
  {
   "cell_type": "code",
   "execution_count": 44,
   "id": "9886124a-2016-4d0b-bc23-ba58d6c4e02f",
   "metadata": {},
   "outputs": [
    {
     "name": "stdout",
     "output_type": "stream",
     "text": [
      "\n",
      "The most similar movie for \"Iron Man(2008)\" is \n",
      "\"Out of the Past(1947)\" with cosine similarity of 0.9230\"\n",
      "\n",
      "No ratings found for the movie \"The Incredible Journey(1963)\".\n"
     ]
    }
   ],
   "source": [
    "# 2nd option = movietitle, year released as function parameters\n",
    "# it takes time(40s~1m) but works!\n",
    "\n",
    "import csv\n",
    "import json\n",
    "\n",
    "# CSV\n",
    "def recommend(movie_parameter8, year_released8):  # Use movie title and year as parameters\n",
    "\n",
    "    # JSON file is to convert movie title with movie id, vice versa\n",
    "    movietitle_to_movieid8 = {}  # Convert title and year to movie ID\n",
    "    movieid_to_movietitle8 = {}   # Convert ID to title\n",
    "    movieid_to_year8 = {}        # \n",
    "\n",
    "    with open('movies.json', 'r', encoding='utf-8') as jsonfile8:\n",
    "        for lines8 in jsonfile8:\n",
    "            convert_file8 = json.loads(lines8)\n",
    "            movie_convert_id8 = convert_file8['id']\n",
    "            movie_convert_title8 = convert_file8['title']\n",
    "            movie_year_released8 = convert_file8['releasedate'].split('-')[0]\n",
    "\n",
    "            # Store title and year as a key to movie ID\n",
    "            movietitle_to_movieid8[(movie_convert_title8, movie_year_released8)] = movie_convert_id8\n",
    "            movieid_to_movietitle8[movie_convert_id8] = movie_convert_title8\n",
    "            movieid_to_year8[movie_convert_id8] = movie_year_released8\n",
    "\n",
    "    check_list8 = (movie_parameter8, year_released8)  \n",
    "\n",
    "    # Convert movie title and year to movie ID\n",
    "    movie_parameter_id8 = movietitle_to_movieid8[check_list8]\n",
    "\n",
    "    # CSV file is to bring ratings for each user.\n",
    "    ratings_data8 = {}\n",
    "    user_ids8 = set()\n",
    "    \n",
    "    with open('ratings.csv', 'r', encoding='utf-8') as main_file8:\n",
    "        next(main_file8)  # Skip the header\n",
    "        csv_handler8 = csv.reader(main_file8)    \n",
    "        for ratings_rows8 in csv_handler8:\n",
    "            userID8, movieID8, ratings8 = ratings_rows8[0].strip(), ratings_rows8[1].strip(), float(ratings_rows8[2])\n",
    "            user_ids8.add(userID8)\n",
    "\n",
    "            if movieID8 not in ratings_data8:\n",
    "                ratings_data8[movieID8] = []  \n",
    "\n",
    "            ratings_data8[movieID8].append(ratings8)\n",
    "\n",
    "    # Ensure every movie has total number of users ratings by appending 0.0\n",
    "    for key8, value8 in ratings_data8.items():\n",
    "        while len(value8) < len(user_ids8):\n",
    "            value8.append(0.0)\n",
    "\n",
    "    # Check if the movie_parameter_id exists in ratings_data\n",
    "    if movie_parameter_id8 not in ratings_data8:\n",
    "        print(f'No ratings found for the movie \"{movie_parameter8}({year_released8})\".')\n",
    "        return\n",
    "\n",
    "    # Calculate the denominator for each movie\n",
    "    denominator_each8 = {}\n",
    "    for movies8_a, ratings8_a in ratings_data8.items():\n",
    "        sum_of_squares8 = sum([rating8_b ** 2 for rating8_b in ratings8_a])\n",
    "        denominators8 = sum_of_squares8 ** 0.5\n",
    "        denominator_each8[movies8_a] = denominators8\n",
    "    \n",
    "    # Retrieve the ratings for the function parameter (movie_parameter_id)\n",
    "    main_movie_ratings8 = ratings_data8[movie_parameter_id8]\n",
    "    \n",
    "    cosine_similarities8 = {}\n",
    "\n",
    "    # Calculate cosine similarity between parameter movie and all other movies\n",
    "    for movie_key8_c, other_movie_ratings8_c in ratings_data8.items():\n",
    "        if movie_key8_c != movie_parameter_id8:  \n",
    "            # Calculate numerator\n",
    "            mult_ratings8 = [a_a * b_b for a_a, b_b in zip(main_movie_ratings8, other_movie_ratings8_c)]\n",
    "            numerator8 = sum(mult_ratings8)\n",
    "\n",
    "            # Calculate cosine similarity\n",
    "            cosine_similarity8 = numerator8 / (denominator_each8[movie_parameter_id8] * denominator_each8[movie_key8_c])\n",
    "            cosine_similarities8[movie_key8_c] = cosine_similarity8\n",
    "\n",
    "    # Find the movie with the highest cosine similarity\n",
    "    highest_rated_sim8 = max(cosine_similarities8, key=cosine_similarities8.get)\n",
    "    recommended_movie8 = movieid_to_movietitle8[highest_rated_sim8]\n",
    "    recommended_movie_year8 = movieid_to_year8[highest_rated_sim8]\n",
    "\n",
    "    # Output the movie title with the highest similarity\n",
    "    print(f'\\nThe most similar movie for \"{movie_parameter8}({year_released8})\" is ')\n",
    "    print(f'\"{recommended_movie8}({recommended_movie_year8})\" with cosine similarity of {cosine_similarities8[highest_rated_sim8]:.4f}\"')\n",
    "\n",
    "recommend('Iron Man', '2008')\n",
    "print()\n",
    "recommend('The Incredible Journey', '1963')"
   ]
  }
 ],
 "metadata": {
  "kernelspec": {
   "display_name": "Python 3 (ipykernel)",
   "language": "python",
   "name": "python3"
  },
  "language_info": {
   "codemirror_mode": {
    "name": "ipython",
    "version": 3
   },
   "file_extension": ".py",
   "mimetype": "text/x-python",
   "name": "python",
   "nbconvert_exporter": "python",
   "pygments_lexer": "ipython3",
   "version": "3.12.4"
  }
 },
 "nbformat": 4,
 "nbformat_minor": 5
}
